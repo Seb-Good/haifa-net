{
 "cells": [
  {
   "cell_type": "markdown",
   "metadata": {},
   "source": [
    "# Physionet Challenge 2017 Dataset\n",
    "### Sebastian D. Goodfellow, Ph.D."
   ]
  },
  {
   "cell_type": "markdown",
   "metadata": {},
   "source": [
    "# Setup Notebook"
   ]
  },
  {
   "cell_type": "code",
   "execution_count": 20,
   "metadata": {},
   "outputs": [
    {
     "name": "stdout",
     "output_type": "stream",
     "text": [
      "The autoreload extension is already loaded. To reload it, use:\n",
      "  %reload_ext autoreload\n"
     ]
    }
   ],
   "source": [
    "# Import 3rd party libraries\n",
    "import sys\n",
    "\n",
    "# Import local Libraries\n",
    "sys.path.insert(0, r'.\\..')\n",
    "from haifanet.data.physionet2017 import Physionet2017DB\n",
    "\n",
    "# Configure Notebook\n",
    "import warnings\n",
    "warnings.filterwarnings('ignore')\n",
    "%matplotlib inline\n",
    "%load_ext autoreload\n",
    "%autoreload 2"
   ]
  },
  {
   "cell_type": "markdown",
   "metadata": {},
   "source": [
    "# Generate Database"
   ]
  },
  {
   "cell_type": "code",
   "execution_count": 21,
   "metadata": {},
   "outputs": [
    {
     "name": "stdout",
     "output_type": "stream",
     "text": [
      "Generating Raw Physionet2017 Database ...\n",
      "Unzipping database ...\n",
      "Restructuring folders and files ...\n",
      "Complete!\n",
      "\n",
      "Generating Processed Physionet2017 Database ...\n",
      "Complete!\n",
      "\n"
     ]
    }
   ],
   "source": [
    "# Initialize\n",
    "physionet_2017_db = Physionet2017DB()\n",
    "\n",
    "# Generate raw database\n",
    "physionet_2017_db.generate_raw_db()\n",
    "\n",
    "# Generate processed database\n",
    "physionet_2017_db.generate_processed_db()"
   ]
  }
 ],
 "metadata": {
  "kernelspec": {
   "display_name": "Python 3",
   "language": "python",
   "name": "python3"
  },
  "language_info": {
   "codemirror_mode": {
    "name": "ipython",
    "version": 3
   },
   "file_extension": ".py",
   "mimetype": "text/x-python",
   "name": "python",
   "nbconvert_exporter": "python",
   "pygments_lexer": "ipython3",
   "version": "3.7.4"
  }
 },
 "nbformat": 4,
 "nbformat_minor": 2
}
