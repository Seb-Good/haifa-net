{
 "cells": [
  {
   "cell_type": "markdown",
   "metadata": {},
   "source": [
    "# ECG Rhythm Classification\n",
    "## 1. Train Model\n",
    "### Sebastian D. Goodfellow, Ph.D."
   ]
  },
  {
   "cell_type": "markdown",
   "metadata": {},
   "source": [
    "# Setup Noteboook"
   ]
  },
  {
   "cell_type": "code",
   "execution_count": null,
   "metadata": {},
   "outputs": [],
   "source": [
    "# 3rd party libraries\n",
    "import os\n",
    "import sys\n",
    "import numpy as np\n",
    "import tensorflow as tf\n",
    "\n",
    "# Local Libraries\n",
    "sys.path.insert(0, r'.\\..')\n",
    "from haifanet.utils.plotting.training_data_validation import interval_plot_interact\n",
    "from haifanet.utils.devices.device_check import print_device_counts\n",
    "from haifanet.train.train import train\n",
    "from haifanet.model.model import Model\n",
    "from haifanet import DATA_DIR, LOG_DIR\n",
    "\n",
    "# Configure Notebook\n",
    "import warnings\n",
    "warnings.filterwarnings('ignore')\n",
    "%matplotlib inline\n",
    "%load_ext autoreload\n",
    "%autoreload 2"
   ]
  },
  {
   "cell_type": "markdown",
   "metadata": {},
   "source": [
    "# 1. View Training Data"
   ]
  },
  {
   "cell_type": "code",
   "execution_count": null,
   "metadata": {},
   "outputs": [],
   "source": [
    "# Data path\n",
    "data_path = os.path.join(DATA_DIR, 'training')\n",
    "\n",
    "# Launch plot\n",
    "interval_plot_interact(path=data_path, dataset='val')"
   ]
  },
  {
   "cell_type": "markdown",
   "metadata": {},
   "source": [
    "# 2. Initialize Model"
   ]
  },
  {
   "cell_type": "code",
   "execution_count": null,
   "metadata": {
    "scrolled": false
   },
   "outputs": [],
   "source": [
    "# Print devices\n",
    "print_device_counts()\n",
    "\n",
    "# Set save path for graphs, summaries, and checkpoints\n",
    "os.makedirs(LOG_DIR, exist_ok=True)\n",
    "\n",
    "# Set model name\n",
    "model_name = '1'\n",
    "\n",
    "# Maximum number of checkpoints to keep\n",
    "max_to_keep = 1\n",
    "\n",
    "# Set randome states\n",
    "seed = 0                                                         \n",
    "\n",
    "# Get training dataset dimensions\n",
    "length, channels = (18000, 1)     \n",
    "\n",
    "# Number of classes\n",
    "classes = 4\n",
    "\n",
    "# Choose network\n",
    "network_name = 'HaifaNetV1'\n",
    "\n",
    "# Set network inputs\n",
    "network_parameters = {'length': length, 'channels': channels, 'classes': classes, 'seed': seed}\n",
    "\n",
    "# Create model\n",
    "model = Model(model_name=model_name, \n",
    "              network_name=network_name, \n",
    "              network_parameters=network_parameters, \n",
    "              save_path=LOG_DIR,\n",
    "              data_path=data_path,\n",
    "              max_to_keep=max_to_keep)"
   ]
  },
  {
   "cell_type": "markdown",
   "metadata": {},
   "source": [
    "# 4. Train Model"
   ]
  },
  {
   "cell_type": "code",
   "execution_count": null,
   "metadata": {
    "scrolled": false
   },
   "outputs": [],
   "source": [
    "# Set hyper-parameters\n",
    "epochs = 200\n",
    "batch_size = 16\n",
    "learning_rate_start = 0.001            \n",
    "\n",
    "# Train model\n",
    "train(model=model, epochs=epochs, batch_size=batch_size)"
   ]
  }
 ],
 "metadata": {
  "kernelspec": {
   "display_name": "Python 3",
   "language": "python",
   "name": "python3"
  },
  "language_info": {
   "codemirror_mode": {
    "name": "ipython",
    "version": 3
   },
   "file_extension": ".py",
   "mimetype": "text/x-python",
   "name": "python",
   "nbconvert_exporter": "python",
   "pygments_lexer": "ipython3",
   "version": "3.6.9"
  }
 },
 "nbformat": 4,
 "nbformat_minor": 2
}
